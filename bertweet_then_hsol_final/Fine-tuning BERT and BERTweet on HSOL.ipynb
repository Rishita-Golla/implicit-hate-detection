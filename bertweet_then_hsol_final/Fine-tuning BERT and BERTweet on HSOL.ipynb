{
 "cells": [
  {
   "cell_type": "code",
   "execution_count": 1,
   "metadata": {},
   "outputs": [
    {
     "name": "stderr",
     "output_type": "stream",
     "text": [
      "/usr/lib/python3/dist-packages/requests/__init__.py:89: RequestsDependencyWarning: urllib3 (1.26.9) or chardet (3.0.4) doesn't match a supported version!\n",
      "  warnings.warn(\"urllib3 ({}) or chardet ({}) doesn't match a supported \"\n"
     ]
    }
   ],
   "source": [
    "import os\n",
    "import re\n",
    "import string\n",
    "\n",
    "import datasets\n",
    "import numpy as np\n",
    "import pandas as pd\n",
    "import seaborn as sns\n",
    "import torch\n",
    "import transformers\n",
    "import wandb\n",
    "\n",
    "from sklearn.metrics import accuracy_score, confusion_matrix, f1_score, precision_score, recall_score\n",
    "from tqdm.notebook import tqdm, trange"
   ]
  },
  {
   "cell_type": "code",
   "execution_count": 2,
   "metadata": {},
   "outputs": [
    {
     "name": "stderr",
     "output_type": "stream",
     "text": [
      "Failed to detect the name of this notebook, you can set it manually with the WANDB_NOTEBOOK_NAME environment variable to enable code saving.\n"
     ]
    },
    {
     "name": "stdout",
     "output_type": "stream",
     "text": [
      "env: WANDB_PROJECT=bertweet-finetuning\n"
     ]
    },
    {
     "name": "stderr",
     "output_type": "stream",
     "text": [
      "wandb: Currently logged in as: simon-andrews (umass-iesl-is). Use `wandb login --relogin` to force relogin\n"
     ]
    },
    {
     "data": {
      "text/plain": [
       "True"
      ]
     },
     "execution_count": 2,
     "metadata": {},
     "output_type": "execute_result"
    }
   ],
   "source": [
    "%env WANDB_PROJECT=bertweet-finetuning\n",
    "wandb.login()"
   ]
  },
  {
   "cell_type": "code",
   "execution_count": 3,
   "metadata": {},
   "outputs": [],
   "source": [
    "def tokenize(example):\n",
    "    tokenizer = transformers.BertweetTokenizer.from_pretrained(\n",
    "        \"vinai/bertweet-base\",\n",
    "        do_lower_case=True\n",
    "    )\n",
    "\n",
    "    encoded_dict = tokenizer(\n",
    "        example[\"text\"],\n",
    "        add_special_tokens=True, # add [CLS] and [SEP]\n",
    "        max_length=64, # appropriate for tweets\n",
    "        padding=\"max_length\",\n",
    "        truncation=True, # truncate large inputs\n",
    "        return_attention_mask=True, # construct attention masks\n",
    "    )\n",
    "\n",
    "    return {\n",
    "        \"input_ids\": encoded_dict[\"input_ids\"],\n",
    "        \"attention_mask\": encoded_dict[\"attention_mask\"]\n",
    "    }"
   ]
  },
  {
   "cell_type": "code",
   "execution_count": 4,
   "metadata": {},
   "outputs": [
    {
     "name": "stderr",
     "output_type": "stream",
     "text": [
      "Using custom data configuration default\n",
      "Reusing dataset hate_speech_offensive (/home/ubuntu/.cache/huggingface/datasets/hate_speech_offensive/default/1.0.0/5f5dfc7b42b5c650fe30a8c49df90b7dbb9c7a4b3fe43ae2e66fabfea35113f5)\n",
      "Loading cached processed dataset at /home/ubuntu/.cache/huggingface/datasets/hate_speech_offensive/default/1.0.0/5f5dfc7b42b5c650fe30a8c49df90b7dbb9c7a4b3fe43ae2e66fabfea35113f5/cache-3e2f37a10615e1c9.arrow\n",
      "Loading cached split indices for dataset at /home/ubuntu/.cache/huggingface/datasets/hate_speech_offensive/default/1.0.0/5f5dfc7b42b5c650fe30a8c49df90b7dbb9c7a4b3fe43ae2e66fabfea35113f5/cache-ed6d7da02ee06499.arrow and /home/ubuntu/.cache/huggingface/datasets/hate_speech_offensive/default/1.0.0/5f5dfc7b42b5c650fe30a8c49df90b7dbb9c7a4b3fe43ae2e66fabfea35113f5/cache-95fa89553329019c.arrow\n",
      "Loading cached processed dataset at /home/ubuntu/.cache/huggingface/datasets/hate_speech_offensive/default/1.0.0/5f5dfc7b42b5c650fe30a8c49df90b7dbb9c7a4b3fe43ae2e66fabfea35113f5/cache-3c300c19ffa13f8a.arrow\n",
      "Loading cached processed dataset at /home/ubuntu/.cache/huggingface/datasets/hate_speech_offensive/default/1.0.0/5f5dfc7b42b5c650fe30a8c49df90b7dbb9c7a4b3fe43ae2e66fabfea35113f5/cache-2d2bc1ec48a9a5ec.arrow\n"
     ]
    },
    {
     "data": {
      "text/plain": [
       "DatasetDict({\n",
       "    train: Dataset({\n",
       "        features: ['label', 'text', 'input_ids', 'attention_mask'],\n",
       "        num_rows: 19826\n",
       "    })\n",
       "    test: Dataset({\n",
       "        features: ['label', 'text', 'input_ids', 'attention_mask'],\n",
       "        num_rows: 4957\n",
       "    })\n",
       "})"
      ]
     },
     "execution_count": 4,
     "metadata": {},
     "output_type": "execute_result"
    }
   ],
   "source": [
    "# 0 --> not hate speech\n",
    "# 1 --> offensive but not hateful\n",
    "# 2 --> hate speech\n",
    "\n",
    "hsol_data = datasets.load_dataset(\"hate_speech_offensive\", split=\"train\") \\\n",
    "    .rename_column(\"tweet\", \"text\") \\\n",
    "    .rename_column(\"class\", \"label\") \\\n",
    "    .remove_columns([\"count\", \"hate_speech_count\", \"offensive_language_count\", \"neither_count\"]) \\\n",
    "    .map(lambda ex: {\"label\": 2 if ex[\"label\"] == 0 else ex[\"label\"]}) \\\n",
    "    .train_test_split(test_size=0.2, seed=685) \\\n",
    "    .map(tokenize, batched=True)\n",
    "\n",
    "hsol_data"
   ]
  },
  {
   "cell_type": "code",
   "execution_count": 5,
   "metadata": {},
   "outputs": [
    {
     "data": {
      "text/plain": [
       "device(type='cuda')"
      ]
     },
     "execution_count": 5,
     "metadata": {},
     "output_type": "execute_result"
    }
   ],
   "source": [
    "device = torch.device('cuda' if torch.has_cuda else 'cpu'); device"
   ]
  },
  {
   "cell_type": "code",
   "execution_count": 6,
   "metadata": {},
   "outputs": [
    {
     "data": {
      "text/plain": [
       "array([0, 0, 1])"
      ]
     },
     "execution_count": 6,
     "metadata": {},
     "output_type": "execute_result"
    }
   ],
   "source": [
    "def binarize_hsol_outputs(outputs):\n",
    "    ret = outputs.copy()\n",
    "    ret[ret == 1] = 0\n",
    "    ret[ret == 2] = 1\n",
    "    return ret\n",
    "\n",
    "binarize_hsol_outputs(np.array([0, 1, 2]))"
   ]
  },
  {
   "cell_type": "code",
   "execution_count": 7,
   "metadata": {},
   "outputs": [
    {
     "data": {
      "text/plain": [
       "{'Multiclass accuracy': 0.16666666666666666,\n",
       " 'Binary accuracy': 0.3333333333333333,\n",
       " 'F1 score': 0.16666666666666666,\n",
       " 'Weighted F1 score': 0.16666666666666666,\n",
       " 'True positives': 0,\n",
       " 'False positives': 2,\n",
       " 'True negatives': 2,\n",
       " 'False negatives': 2,\n",
       " 'Precision': 0.0,\n",
       " 'Recall': 0.0}"
      ]
     },
     "execution_count": 7,
     "metadata": {},
     "output_type": "execute_result"
    }
   ],
   "source": [
    "def compute_metrics(eval_pred):\n",
    "    logits, labels = eval_pred\n",
    "    predictions = np.argmax(logits, axis=-1)\n",
    "    binary_labels = binarize_hsol_outputs(labels)\n",
    "    binary_predictions = binarize_hsol_outputs(predictions)\n",
    "\n",
    "    cfm = confusion_matrix(binary_labels, binary_predictions)\n",
    "    true_negatives = cfm[0][0]\n",
    "    false_negatives = cfm[1][0]\n",
    "    true_positives = cfm[1][1]\n",
    "    false_positives = cfm[0][1]\n",
    "    \n",
    "    return {\n",
    "        \"Multiclass accuracy\": accuracy_score(labels, predictions),\n",
    "        \"Binary accuracy\": accuracy_score(binary_labels, binary_predictions),\n",
    "        \"F1 score\": f1_score(labels, predictions, average=\"micro\"),\n",
    "        \"Weighted F1 score\": f1_score(labels, predictions, average=\"weighted\"),\n",
    "        \"True positives\": true_positives,\n",
    "        \"False positives\": false_positives,\n",
    "        \"True negatives\": true_negatives,\n",
    "        \"False negatives\": false_negatives,\n",
    "        \"Precision\": precision_score(binary_labels, binary_predictions),\n",
    "        \"Recall\": recall_score(binary_labels, binary_predictions),\n",
    "    }\n",
    "\n",
    "compute_metrics((\n",
    "    np.random.normal(size=(6, 3)),\n",
    "    np.array([2, 1, 0, 2, 1, 0])\n",
    "))"
   ]
  },
  {
   "cell_type": "code",
   "execution_count": 9,
   "metadata": {},
   "outputs": [
    {
     "data": {
      "text/html": [
       "Finishing last run (ID:3ogwdosn) before initializing another..."
      ],
      "text/plain": [
       "<IPython.core.display.HTML object>"
      ]
     },
     "metadata": {},
     "output_type": "display_data"
    },
    {
     "data": {
      "text/html": [
       "Waiting for W&B process to finish... <strong style=\"color:green\">(success).</strong>"
      ],
      "text/plain": [
       "<IPython.core.display.HTML object>"
      ]
     },
     "metadata": {},
     "output_type": "display_data"
    },
    {
     "data": {
      "application/vnd.jupyter.widget-view+json": {
       "model_id": "",
       "version_major": 2,
       "version_minor": 0
      },
      "text/plain": [
       "VBox(children=(Label(value='0.000 MB of 0.000 MB uploaded (0.000 MB deduped)\\r'), FloatProgress(value=1.0, max…"
      ]
     },
     "metadata": {},
     "output_type": "display_data"
    },
    {
     "data": {
      "text/html": [
       "<style>\n",
       "    table.wandb td:nth-child(1) { padding: 0 10px; text-align: left ; width: auto;} td:nth-child(2) {text-align: left ; width: 100%}\n",
       "    .wandb-row { display: flex; flex-direction: row; flex-wrap: wrap; justify-content: flex-start; width: 100% }\n",
       "    .wandb-col { display: flex; flex-direction: column; flex-basis: 100%; flex: 1; padding: 10px; }\n",
       "    </style>\n",
       "<div class=\"wandb-row\"><div class=\"wandb-col\"><h3>Run history:</h3><br/><table class=\"wandb\"><tr><td>eval/Binary accuracy</td><td>▁▆▄▂▄▇▃▅█</td></tr><tr><td>eval/F1 score</td><td>▁▆▄▂▄▇▃▅█</td></tr><tr><td>eval/False negatives</td><td>█▄▇▂▁▅▆▁▄</td></tr><tr><td>eval/False positives</td><td>▁▄▁██▂▃▇▃</td></tr><tr><td>eval/Multiclass accuracy</td><td>▁▆▄▂▄▇▃▅█</td></tr><tr><td>eval/Precision</td><td>▇▅█▁▁▇▆▂▆</td></tr><tr><td>eval/Recall</td><td>▁▅▂▇█▄▃█▅</td></tr><tr><td>eval/True negatives</td><td>█▅█▁▁▇▆▂▆</td></tr><tr><td>eval/True positives</td><td>▁▅▂▇█▄▃█▅</td></tr><tr><td>eval/Weighted F1 score</td><td>▁▇▄▄▅▇▄▇█</td></tr><tr><td>eval/loss</td><td>█▂▂▄▁▁▃▁▁</td></tr><tr><td>eval/runtime</td><td>▃▁▁▅▅▅▅█▄</td></tr><tr><td>eval/samples_per_second</td><td>▆██▄▄▄▄▁▅</td></tr><tr><td>eval/steps_per_second</td><td>▆██▄▄▄▄▁▅</td></tr><tr><td>train/epoch</td><td>▁▁▂▃▃▄▄▅▆▆▆▇██▁▂▃▃▄▄▅▅▆▆▇██▁▂▃▃▃▄▅▅▆▆▇██</td></tr><tr><td>train/global_step</td><td>▁▁▂▃▃▄▄▅▆▆▆▇██▁▂▃▃▄▄▅▅▆▆▇██▁▂▃▃▃▄▅▅▆▆▇██</td></tr><tr><td>train/learning_rate</td><td>▃▃▃▃▃▃▂▂▂▂▂▁▁▁▆▅▅▅▄▄▃▃▃▂▂▁▁██▇▆▆▅▅▄▃▃▂▂▁</td></tr><tr><td>train/loss</td><td>█▅▃▃▃▂▂▂▂▂▂▂▁▂▄▃▂▂▂▂▂▂▁▂▂▁▂▃▃▂▂▂▂▂▂▁▁▁▁▁</td></tr><tr><td>train/total_flos</td><td>▁▁▁</td></tr><tr><td>train/train_loss</td><td>█▃▁</td></tr><tr><td>train/train_runtime</td><td>▁██</td></tr><tr><td>train/train_samples_per_second</td><td>█▁▁</td></tr><tr><td>train/train_steps_per_second</td><td>█▁▁</td></tr></table><br/></div><div class=\"wandb-col\"><h3>Run summary:</h3><br/><table class=\"wandb\"><tr><td>eval/Binary accuracy</td><td>0.93444</td></tr><tr><td>eval/F1 score</td><td>0.93444</td></tr><tr><td>eval/False negatives</td><td>211</td></tr><tr><td>eval/False positives</td><td>114</td></tr><tr><td>eval/Multiclass accuracy</td><td>0.93444</td></tr><tr><td>eval/Precision</td><td>0.88878</td></tr><tr><td>eval/Recall</td><td>0.81194</td></tr><tr><td>eval/True negatives</td><td>3721</td></tr><tr><td>eval/True positives</td><td>911</td></tr><tr><td>eval/Weighted F1 score</td><td>0.93336</td></tr><tr><td>eval/loss</td><td>0.18213</td></tr><tr><td>eval/runtime</td><td>21.2931</td></tr><tr><td>eval/samples_per_second</td><td>232.798</td></tr><tr><td>eval/steps_per_second</td><td>29.117</td></tr><tr><td>train/epoch</td><td>3.0</td></tr><tr><td>train/global_step</td><td>930</td></tr><tr><td>train/learning_rate</td><td>0.0</td></tr><tr><td>train/loss</td><td>0.1712</td></tr><tr><td>train/total_flos</td><td>1956182482453248.0</td></tr><tr><td>train/train_loss</td><td>0.22022</td></tr><tr><td>train/train_runtime</td><td>788.326</td></tr><tr><td>train/train_samples_per_second</td><td>75.448</td></tr><tr><td>train/train_steps_per_second</td><td>1.18</td></tr></table><br/></div></div>"
      ],
      "text/plain": [
       "<IPython.core.display.HTML object>"
      ]
     },
     "metadata": {},
     "output_type": "display_data"
    },
    {
     "data": {
      "text/html": [
       "Synced <strong style=\"color:#cdcd00\">bertweet-then-hsol-with-lr-1e-05</strong>: <a href=\"https://wandb.ai/umass-iesl-is/bertweet-finetuning/runs/3ogwdosn\" target=\"_blank\">https://wandb.ai/umass-iesl-is/bertweet-finetuning/runs/3ogwdosn</a><br/>Synced 5 W&B file(s), 0 media file(s), 0 artifact file(s) and 1 other file(s)"
      ],
      "text/plain": [
       "<IPython.core.display.HTML object>"
      ]
     },
     "metadata": {},
     "output_type": "display_data"
    },
    {
     "data": {
      "text/html": [
       "Find logs at: <code>./wandb/run-20220512_185613-3ogwdosn/logs</code>"
      ],
      "text/plain": [
       "<IPython.core.display.HTML object>"
      ]
     },
     "metadata": {},
     "output_type": "display_data"
    },
    {
     "data": {
      "text/html": [
       "Successfully finished last run (ID:3ogwdosn). Initializing new run:<br/>"
      ],
      "text/plain": [
       "<IPython.core.display.HTML object>"
      ]
     },
     "metadata": {},
     "output_type": "display_data"
    },
    {
     "data": {
      "text/html": [
       "Tracking run with wandb version 0.12.16"
      ],
      "text/plain": [
       "<IPython.core.display.HTML object>"
      ]
     },
     "metadata": {},
     "output_type": "display_data"
    },
    {
     "data": {
      "text/html": [
       "Run data is saved locally in <code>/home/ubuntu/notebooks/NLP project/FRESH START/wandb/run-20220512_193621-2vuz6h8p</code>"
      ],
      "text/plain": [
       "<IPython.core.display.HTML object>"
      ]
     },
     "metadata": {},
     "output_type": "display_data"
    },
    {
     "data": {
      "text/html": [
       "Syncing run <strong><a href=\"https://wandb.ai/umass-iesl-is/bertweet-finetuning/runs/2vuz6h8p\" target=\"_blank\">amber-dream-4</a></strong> to <a href=\"https://wandb.ai/umass-iesl-is/bertweet-finetuning\" target=\"_blank\">Weights & Biases</a> (<a href=\"https://wandb.me/run\" target=\"_blank\">docs</a>)<br/>"
      ],
      "text/plain": [
       "<IPython.core.display.HTML object>"
      ]
     },
     "metadata": {},
     "output_type": "display_data"
    },
    {
     "name": "stderr",
     "output_type": "stream",
     "text": [
      "loading configuration file https://huggingface.co/vinai/bertweet-base/resolve/main/config.json from cache at /home/ubuntu/.cache/huggingface/transformers/356366feedcea0917e30f7f235e1e062ffc2d28138445d5672a184be756c8686.a2b6026e688d1b19cebc0981d8f3a5b1668eabfda55b2c42049d5eac0bc8cb2d\n",
      "Model config RobertaConfig {\n",
      "  \"_name_or_path\": \"vinai/bertweet-base\",\n",
      "  \"architectures\": [\n",
      "    \"RobertaForMaskedLM\"\n",
      "  ],\n",
      "  \"attention_probs_dropout_prob\": 0.1,\n",
      "  \"bos_token_id\": 0,\n",
      "  \"classifier_dropout\": null,\n",
      "  \"eos_token_id\": 2,\n",
      "  \"gradient_checkpointing\": false,\n",
      "  \"hidden_act\": \"gelu\",\n",
      "  \"hidden_dropout_prob\": 0.1,\n",
      "  \"hidden_size\": 768,\n",
      "  \"id2label\": {\n",
      "    \"0\": \"LABEL_0\",\n",
      "    \"1\": \"LABEL_1\",\n",
      "    \"2\": \"LABEL_2\"\n",
      "  },\n",
      "  \"initializer_range\": 0.02,\n",
      "  \"intermediate_size\": 3072,\n",
      "  \"label2id\": {\n",
      "    \"LABEL_0\": 0,\n",
      "    \"LABEL_1\": 1,\n",
      "    \"LABEL_2\": 2\n",
      "  },\n",
      "  \"layer_norm_eps\": 1e-05,\n",
      "  \"max_position_embeddings\": 130,\n",
      "  \"model_type\": \"roberta\",\n",
      "  \"num_attention_heads\": 12,\n",
      "  \"num_hidden_layers\": 12,\n",
      "  \"pad_token_id\": 1,\n",
      "  \"position_embedding_type\": \"absolute\",\n",
      "  \"tokenizer_class\": \"BertweetTokenizer\",\n",
      "  \"transformers_version\": \"4.18.0\",\n",
      "  \"type_vocab_size\": 1,\n",
      "  \"use_cache\": true,\n",
      "  \"vocab_size\": 64001\n",
      "}\n",
      "\n",
      "loading weights file https://huggingface.co/vinai/bertweet-base/resolve/main/pytorch_model.bin from cache at /home/ubuntu/.cache/huggingface/transformers/4e07e2989cb95a6f63c704a7170b48e6e663cc203c05db424e47f4d75562cf0e.7b2adda243ecb4b085eb2d22ef1b2cd12a882a43bbb13a34c11e10f960b9bfc3\n",
      "Some weights of the model checkpoint at vinai/bertweet-base were not used when initializing RobertaForSequenceClassification: ['roberta.pooler.dense.weight', 'lm_head.dense.bias', 'roberta.pooler.dense.bias', 'lm_head.decoder.bias', 'lm_head.layer_norm.bias', 'lm_head.dense.weight', 'lm_head.layer_norm.weight', 'lm_head.decoder.weight', 'lm_head.bias']\n",
      "- This IS expected if you are initializing RobertaForSequenceClassification from the checkpoint of a model trained on another task or with another architecture (e.g. initializing a BertForSequenceClassification model from a BertForPreTraining model).\n",
      "- This IS NOT expected if you are initializing RobertaForSequenceClassification from the checkpoint of a model that you expect to be exactly identical (initializing a BertForSequenceClassification model from a BertForSequenceClassification model).\n",
      "Some weights of RobertaForSequenceClassification were not initialized from the model checkpoint at vinai/bertweet-base and are newly initialized: ['classifier.out_proj.weight', 'classifier.out_proj.bias', 'classifier.dense.bias', 'classifier.dense.weight']\n",
      "You should probably TRAIN this model on a down-stream task to be able to use it for predictions and inference.\n",
      "PyTorch: setting up devices\n",
      "The following columns in the training set  don't have a corresponding argument in `RobertaForSequenceClassification.forward` and have been ignored: text. If text are not expected by `RobertaForSequenceClassification.forward`,  you can safely ignore this message.\n",
      "***** Running training *****\n",
      "  Num examples = 19826\n",
      "  Num Epochs = 3\n",
      "  Instantaneous batch size per device = 64\n",
      "  Total train batch size (w. parallel, distributed & accumulation) = 64\n",
      "  Gradient Accumulation steps = 1\n",
      "  Total optimization steps = 930\n",
      "Automatic Weights & Biases logging enabled, to disable set os.environ[\"WANDB_DISABLED\"] = \"true\"\n"
     ]
    },
    {
     "data": {
      "text/html": [
       "\n",
       "    <div>\n",
       "      \n",
       "      <progress value='930' max='930' style='width:300px; height:20px; vertical-align: middle;'></progress>\n",
       "      [930/930 13:03, Epoch 3/3]\n",
       "    </div>\n",
       "    <table border=\"1\" class=\"dataframe\">\n",
       "  <thead>\n",
       " <tr style=\"text-align: left;\">\n",
       "      <th>Epoch</th>\n",
       "      <th>Training Loss</th>\n",
       "      <th>Validation Loss</th>\n",
       "      <th>Multiclass accuracy</th>\n",
       "      <th>Binary accuracy</th>\n",
       "      <th>F1 score</th>\n",
       "      <th>Weighted f1 score</th>\n",
       "      <th>True positives</th>\n",
       "      <th>False positives</th>\n",
       "      <th>True negatives</th>\n",
       "      <th>False negatives</th>\n",
       "      <th>Precision</th>\n",
       "      <th>Recall</th>\n",
       "    </tr>\n",
       "  </thead>\n",
       "  <tbody>\n",
       "    <tr>\n",
       "      <td>1</td>\n",
       "      <td>0.216600</td>\n",
       "      <td>0.177974</td>\n",
       "      <td>0.933831</td>\n",
       "      <td>0.933831</td>\n",
       "      <td>0.933831</td>\n",
       "      <td>0.932593</td>\n",
       "      <td>903</td>\n",
       "      <td>109</td>\n",
       "      <td>3726</td>\n",
       "      <td>219</td>\n",
       "      <td>0.892292</td>\n",
       "      <td>0.804813</td>\n",
       "    </tr>\n",
       "    <tr>\n",
       "      <td>2</td>\n",
       "      <td>0.171200</td>\n",
       "      <td>0.175823</td>\n",
       "      <td>0.937664</td>\n",
       "      <td>0.937664</td>\n",
       "      <td>0.937664</td>\n",
       "      <td>0.937039</td>\n",
       "      <td>937</td>\n",
       "      <td>124</td>\n",
       "      <td>3711</td>\n",
       "      <td>185</td>\n",
       "      <td>0.883129</td>\n",
       "      <td>0.835116</td>\n",
       "    </tr>\n",
       "    <tr>\n",
       "      <td>3</td>\n",
       "      <td>0.154700</td>\n",
       "      <td>0.181829</td>\n",
       "      <td>0.934638</td>\n",
       "      <td>0.934638</td>\n",
       "      <td>0.934638</td>\n",
       "      <td>0.933581</td>\n",
       "      <td>912</td>\n",
       "      <td>114</td>\n",
       "      <td>3721</td>\n",
       "      <td>210</td>\n",
       "      <td>0.888889</td>\n",
       "      <td>0.812834</td>\n",
       "    </tr>\n",
       "  </tbody>\n",
       "</table><p>"
      ],
      "text/plain": [
       "<IPython.core.display.HTML object>"
      ]
     },
     "metadata": {},
     "output_type": "display_data"
    },
    {
     "name": "stderr",
     "output_type": "stream",
     "text": [
      "The following columns in the evaluation set  don't have a corresponding argument in `RobertaForSequenceClassification.forward` and have been ignored: text. If text are not expected by `RobertaForSequenceClassification.forward`,  you can safely ignore this message.\n",
      "***** Running Evaluation *****\n",
      "  Num examples = 4957\n",
      "  Batch size = 8\n",
      "Saving model checkpoint to bertweet-then-hsol-with-lr-4e-05/checkpoint-310\n",
      "Configuration saved in bertweet-then-hsol-with-lr-4e-05/checkpoint-310/config.json\n",
      "Model weights saved in bertweet-then-hsol-with-lr-4e-05/checkpoint-310/pytorch_model.bin\n",
      "The following columns in the evaluation set  don't have a corresponding argument in `RobertaForSequenceClassification.forward` and have been ignored: text. If text are not expected by `RobertaForSequenceClassification.forward`,  you can safely ignore this message.\n",
      "***** Running Evaluation *****\n",
      "  Num examples = 4957\n",
      "  Batch size = 8\n",
      "Saving model checkpoint to bertweet-then-hsol-with-lr-4e-05/checkpoint-620\n",
      "Configuration saved in bertweet-then-hsol-with-lr-4e-05/checkpoint-620/config.json\n",
      "Model weights saved in bertweet-then-hsol-with-lr-4e-05/checkpoint-620/pytorch_model.bin\n",
      "The following columns in the evaluation set  don't have a corresponding argument in `RobertaForSequenceClassification.forward` and have been ignored: text. If text are not expected by `RobertaForSequenceClassification.forward`,  you can safely ignore this message.\n",
      "***** Running Evaluation *****\n",
      "  Num examples = 4957\n",
      "  Batch size = 8\n",
      "Saving model checkpoint to bertweet-then-hsol-with-lr-4e-05/checkpoint-930\n",
      "Configuration saved in bertweet-then-hsol-with-lr-4e-05/checkpoint-930/config.json\n",
      "Model weights saved in bertweet-then-hsol-with-lr-4e-05/checkpoint-930/pytorch_model.bin\n",
      "\n",
      "\n",
      "Training completed. Do not forget to share your model on huggingface.co/models =)\n",
      "\n",
      "\n"
     ]
    },
    {
     "data": {
      "text/html": [
       "Waiting for W&B process to finish... <strong style=\"color:green\">(success).</strong>"
      ],
      "text/plain": [
       "<IPython.core.display.HTML object>"
      ]
     },
     "metadata": {},
     "output_type": "display_data"
    },
    {
     "data": {
      "application/vnd.jupyter.widget-view+json": {
       "model_id": "",
       "version_major": 2,
       "version_minor": 0
      },
      "text/plain": [
       "VBox(children=(Label(value='0.000 MB of 0.000 MB uploaded (0.000 MB deduped)\\r'), FloatProgress(value=1.0, max…"
      ]
     },
     "metadata": {},
     "output_type": "display_data"
    },
    {
     "data": {
      "text/html": [
       "<style>\n",
       "    table.wandb td:nth-child(1) { padding: 0 10px; text-align: left ; width: auto;} td:nth-child(2) {text-align: left ; width: 100%}\n",
       "    .wandb-row { display: flex; flex-direction: row; flex-wrap: wrap; justify-content: flex-start; width: 100% }\n",
       "    .wandb-col { display: flex; flex-direction: column; flex-basis: 100%; flex: 1; padding: 10px; }\n",
       "    </style>\n",
       "<div class=\"wandb-row\"><div class=\"wandb-col\"><h3>Run history:</h3><br/><table class=\"wandb\"><tr><td>eval/Binary accuracy</td><td>▁█▂</td></tr><tr><td>eval/F1 score</td><td>▁█▂</td></tr><tr><td>eval/False negatives</td><td>█▁▆</td></tr><tr><td>eval/False positives</td><td>▁█▃</td></tr><tr><td>eval/Multiclass accuracy</td><td>▁█▂</td></tr><tr><td>eval/Precision</td><td>█▁▅</td></tr><tr><td>eval/Recall</td><td>▁█▃</td></tr><tr><td>eval/True negatives</td><td>█▁▆</td></tr><tr><td>eval/True positives</td><td>▁█▃</td></tr><tr><td>eval/Weighted F1 score</td><td>▁█▃</td></tr><tr><td>eval/loss</td><td>▄▁█</td></tr><tr><td>eval/runtime</td><td>▁▇█</td></tr><tr><td>eval/samples_per_second</td><td>█▂▁</td></tr><tr><td>eval/steps_per_second</td><td>█▂▁</td></tr><tr><td>train/epoch</td><td>▁▁▁▁▂▂▂▂▃▃▃▃▃▃▃▄▄▄▄▄▅▅▅▅▅▆▆▆▆▆▆▇▇▇▇▇████</td></tr><tr><td>train/global_step</td><td>▁▁▁▁▂▂▂▂▃▃▃▃▃▃▃▄▄▄▄▄▅▅▅▅▅▆▆▆▆▆▆▇▇▇▇▇████</td></tr><tr><td>train/learning_rate</td><td>████▇▇▇▇▇▆▆▆▆▆▅▅▅▅▅▅▄▄▄▄▄▄▃▃▃▃▃▂▂▂▂▂▁▁▁▁</td></tr><tr><td>train/loss</td><td>█▄▃▃▃▃▃▂▂▂▂▂▂▂▂▂▂▂▂▁▂▂▂▂▂▂▂▁▂▁▁▂▁▁▂▁▁▁▁▂</td></tr><tr><td>train/total_flos</td><td>▁</td></tr><tr><td>train/train_loss</td><td>▁</td></tr><tr><td>train/train_runtime</td><td>▁</td></tr><tr><td>train/train_samples_per_second</td><td>▁</td></tr><tr><td>train/train_steps_per_second</td><td>▁</td></tr></table><br/></div><div class=\"wandb-col\"><h3>Run summary:</h3><br/><table class=\"wandb\"><tr><td>eval/Binary accuracy</td><td>0.93464</td></tr><tr><td>eval/F1 score</td><td>0.93464</td></tr><tr><td>eval/False negatives</td><td>210</td></tr><tr><td>eval/False positives</td><td>114</td></tr><tr><td>eval/Multiclass accuracy</td><td>0.93464</td></tr><tr><td>eval/Precision</td><td>0.88889</td></tr><tr><td>eval/Recall</td><td>0.81283</td></tr><tr><td>eval/True negatives</td><td>3721</td></tr><tr><td>eval/True positives</td><td>912</td></tr><tr><td>eval/Weighted F1 score</td><td>0.93358</td></tr><tr><td>eval/loss</td><td>0.18183</td></tr><tr><td>eval/runtime</td><td>21.5005</td></tr><tr><td>eval/samples_per_second</td><td>230.553</td></tr><tr><td>eval/steps_per_second</td><td>28.837</td></tr><tr><td>train/epoch</td><td>3.0</td></tr><tr><td>train/global_step</td><td>930</td></tr><tr><td>train/learning_rate</td><td>0.0</td></tr><tr><td>train/loss</td><td>0.1547</td></tr><tr><td>train/total_flos</td><td>1956182482453248.0</td></tr><tr><td>train/train_loss</td><td>0.20514</td></tr><tr><td>train/train_runtime</td><td>784.3255</td></tr><tr><td>train/train_samples_per_second</td><td>75.833</td></tr><tr><td>train/train_steps_per_second</td><td>1.186</td></tr></table><br/></div></div>"
      ],
      "text/plain": [
       "<IPython.core.display.HTML object>"
      ]
     },
     "metadata": {},
     "output_type": "display_data"
    },
    {
     "data": {
      "text/html": [
       "Synced <strong style=\"color:#cdcd00\">amber-dream-4</strong>: <a href=\"https://wandb.ai/umass-iesl-is/bertweet-finetuning/runs/2vuz6h8p\" target=\"_blank\">https://wandb.ai/umass-iesl-is/bertweet-finetuning/runs/2vuz6h8p</a><br/>Synced 5 W&B file(s), 0 media file(s), 0 artifact file(s) and 0 other file(s)"
      ],
      "text/plain": [
       "<IPython.core.display.HTML object>"
      ]
     },
     "metadata": {},
     "output_type": "display_data"
    },
    {
     "data": {
      "text/html": [
       "Find logs at: <code>./wandb/run-20220512_193621-2vuz6h8p/logs</code>"
      ],
      "text/plain": [
       "<IPython.core.display.HTML object>"
      ]
     },
     "metadata": {},
     "output_type": "display_data"
    }
   ],
   "source": [
    "for learning_rate in [4e-5]: # [1e-5, 2e-5, 3e-5, 4e-5]:\n",
    "    with wandb.init() as run:\n",
    "        model = transformers.AutoModelForSequenceClassification.from_pretrained(\"vinai/bertweet-base\", num_labels=3).to(device)\n",
    "        name = f\"bertweet-then-hsol-with-lr-{learning_rate}\"\n",
    "\n",
    "        training_args = transformers.TrainingArguments(\n",
    "            output_dir=name,\n",
    "            report_to=\"wandb\",\n",
    "            run_name=name,\n",
    "            num_train_epochs=3,\n",
    "            learning_rate=learning_rate,\n",
    "            evaluation_strategy=\"epoch\",\n",
    "            save_strategy=\"epoch\",\n",
    "            per_device_train_batch_size=64,\n",
    "            logging_steps=20,\n",
    "        )\n",
    "\n",
    "        trainer = transformers.Trainer(\n",
    "            model=model,\n",
    "            args=training_args,\n",
    "            train_dataset=hsol_data[\"train\"],\n",
    "            eval_dataset=hsol_data[\"test\"],\n",
    "            compute_metrics=compute_metrics,\n",
    "        )\n",
    "\n",
    "        trainer.train()"
   ]
  },
  {
   "cell_type": "code",
   "execution_count": 12,
   "metadata": {},
   "outputs": [
    {
     "name": "stderr",
     "output_type": "stream",
     "text": [
      "loading configuration file ./bertweet-then-hsol-with-lr-4e-05/checkpoint-620/config.json\n",
      "Model config RobertaConfig {\n",
      "  \"_name_or_path\": \"./bertweet-then-hsol-with-lr-4e-05/checkpoint-620\",\n",
      "  \"architectures\": [\n",
      "    \"RobertaForSequenceClassification\"\n",
      "  ],\n",
      "  \"attention_probs_dropout_prob\": 0.1,\n",
      "  \"bos_token_id\": 0,\n",
      "  \"classifier_dropout\": null,\n",
      "  \"eos_token_id\": 2,\n",
      "  \"gradient_checkpointing\": false,\n",
      "  \"hidden_act\": \"gelu\",\n",
      "  \"hidden_dropout_prob\": 0.1,\n",
      "  \"hidden_size\": 768,\n",
      "  \"id2label\": {\n",
      "    \"0\": \"LABEL_0\",\n",
      "    \"1\": \"LABEL_1\",\n",
      "    \"2\": \"LABEL_2\"\n",
      "  },\n",
      "  \"initializer_range\": 0.02,\n",
      "  \"intermediate_size\": 3072,\n",
      "  \"label2id\": {\n",
      "    \"LABEL_0\": 0,\n",
      "    \"LABEL_1\": 1,\n",
      "    \"LABEL_2\": 2\n",
      "  },\n",
      "  \"layer_norm_eps\": 1e-05,\n",
      "  \"max_position_embeddings\": 130,\n",
      "  \"model_type\": \"roberta\",\n",
      "  \"num_attention_heads\": 12,\n",
      "  \"num_hidden_layers\": 12,\n",
      "  \"pad_token_id\": 1,\n",
      "  \"position_embedding_type\": \"absolute\",\n",
      "  \"problem_type\": \"single_label_classification\",\n",
      "  \"tokenizer_class\": \"BertweetTokenizer\",\n",
      "  \"torch_dtype\": \"float32\",\n",
      "  \"transformers_version\": \"4.18.0\",\n",
      "  \"type_vocab_size\": 1,\n",
      "  \"use_cache\": true,\n",
      "  \"vocab_size\": 64001\n",
      "}\n",
      "\n",
      "loading weights file ./bertweet-then-hsol-with-lr-4e-05/checkpoint-620/pytorch_model.bin\n",
      "Some weights of the model checkpoint at ./bertweet-then-hsol-with-lr-4e-05/checkpoint-620 were not used when initializing RobertaForMaskedLM: ['classifier.out_proj.weight', 'classifier.out_proj.bias', 'classifier.dense.bias', 'classifier.dense.weight']\n",
      "- This IS expected if you are initializing RobertaForMaskedLM from the checkpoint of a model trained on another task or with another architecture (e.g. initializing a BertForSequenceClassification model from a BertForPreTraining model).\n",
      "- This IS NOT expected if you are initializing RobertaForMaskedLM from the checkpoint of a model that you expect to be exactly identical (initializing a BertForSequenceClassification model from a BertForSequenceClassification model).\n",
      "Some weights of RobertaForMaskedLM were not initialized from the model checkpoint at ./bertweet-then-hsol-with-lr-4e-05/checkpoint-620 and are newly initialized: ['lm_head.dense.bias', 'lm_head.layer_norm.bias', 'lm_head.dense.weight', 'lm_head.layer_norm.weight', 'lm_head.bias']\n",
      "You should probably TRAIN this model on a down-stream task to be able to use it for predictions and inference.\n",
      "Configuration saved in hsol-final/config.json\n",
      "Model weights saved in hsol-final/pytorch_model.bin\n"
     ]
    }
   ],
   "source": [
    "model = transformers.AutoModelForPreTraining.from_pretrained(\"./bertweet-then-hsol-with-lr-4e-05/checkpoint-620\")\n",
    "\n",
    "model.save_pretrained(\"hsol-final\")"
   ]
  }
 ],
 "metadata": {
  "kernelspec": {
   "display_name": "Python 3",
   "language": "python",
   "name": "python3"
  },
  "language_info": {
   "codemirror_mode": {
    "name": "ipython",
    "version": 3
   },
   "file_extension": ".py",
   "mimetype": "text/x-python",
   "name": "python",
   "nbconvert_exporter": "python",
   "pygments_lexer": "ipython3",
   "version": "3.8.10"
  }
 },
 "nbformat": 4,
 "nbformat_minor": 4
}
