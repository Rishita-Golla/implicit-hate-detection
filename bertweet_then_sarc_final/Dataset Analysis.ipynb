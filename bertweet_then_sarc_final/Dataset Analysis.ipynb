{
 "cells": [
  {
   "cell_type": "code",
   "execution_count": 2,
   "metadata": {},
   "outputs": [
    {
     "name": "stderr",
     "output_type": "stream",
     "text": [
      "/usr/lib/python3/dist-packages/requests/__init__.py:89: RequestsDependencyWarning: urllib3 (1.26.9) or chardet (3.0.4) doesn't match a supported version!\n",
      "  warnings.warn(\"urllib3 ({}) or chardet ({}) doesn't match a supported \"\n"
     ]
    }
   ],
   "source": [
    "import datasets\n",
    "import pandas as pd"
   ]
  },
  {
   "cell_type": "code",
   "execution_count": 13,
   "metadata": {},
   "outputs": [
    {
     "name": "stderr",
     "output_type": "stream",
     "text": [
      "Using custom data configuration default\n",
      "Reusing dataset hate_speech_offensive (/home/ubuntu/.cache/huggingface/datasets/hate_speech_offensive/default/1.0.0/5f5dfc7b42b5c650fe30a8c49df90b7dbb9c7a4b3fe43ae2e66fabfea35113f5)\n"
     ]
    },
    {
     "data": {
      "text/html": [
       "<div>\n",
       "<style scoped>\n",
       "    .dataframe tbody tr th:only-of-type {\n",
       "        vertical-align: middle;\n",
       "    }\n",
       "\n",
       "    .dataframe tbody tr th {\n",
       "        vertical-align: top;\n",
       "    }\n",
       "\n",
       "    .dataframe thead th {\n",
       "        text-align: right;\n",
       "    }\n",
       "</style>\n",
       "<table border=\"1\" class=\"dataframe\">\n",
       "  <thead>\n",
       "    <tr style=\"text-align: right;\">\n",
       "      <th></th>\n",
       "      <th>class</th>\n",
       "      <th>tweet</th>\n",
       "    </tr>\n",
       "  </thead>\n",
       "  <tbody>\n",
       "    <tr>\n",
       "      <th>0</th>\n",
       "      <td>2</td>\n",
       "      <td>!!! RT @mayasolovely: As a woman you shouldn't...</td>\n",
       "    </tr>\n",
       "    <tr>\n",
       "      <th>1</th>\n",
       "      <td>1</td>\n",
       "      <td>!!!!! RT @mleew17: boy dats cold...tyga dwn ba...</td>\n",
       "    </tr>\n",
       "    <tr>\n",
       "      <th>2</th>\n",
       "      <td>1</td>\n",
       "      <td>!!!!!!! RT @UrKindOfBrand Dawg!!!! RT @80sbaby...</td>\n",
       "    </tr>\n",
       "    <tr>\n",
       "      <th>3</th>\n",
       "      <td>1</td>\n",
       "      <td>!!!!!!!!! RT @C_G_Anderson: @viva_based she lo...</td>\n",
       "    </tr>\n",
       "    <tr>\n",
       "      <th>4</th>\n",
       "      <td>1</td>\n",
       "      <td>!!!!!!!!!!!!! RT @ShenikaRoberts: The shit you...</td>\n",
       "    </tr>\n",
       "    <tr>\n",
       "      <th>...</th>\n",
       "      <td>...</td>\n",
       "      <td>...</td>\n",
       "    </tr>\n",
       "    <tr>\n",
       "      <th>24778</th>\n",
       "      <td>1</td>\n",
       "      <td>you's a muthaf***in lie &amp;#8220;@LifeAsKing: @2...</td>\n",
       "    </tr>\n",
       "    <tr>\n",
       "      <th>24779</th>\n",
       "      <td>2</td>\n",
       "      <td>you've gone and broke the wrong heart baby, an...</td>\n",
       "    </tr>\n",
       "    <tr>\n",
       "      <th>24780</th>\n",
       "      <td>1</td>\n",
       "      <td>young buck wanna eat!!.. dat nigguh like I ain...</td>\n",
       "    </tr>\n",
       "    <tr>\n",
       "      <th>24781</th>\n",
       "      <td>1</td>\n",
       "      <td>youu got wild bitches tellin you lies</td>\n",
       "    </tr>\n",
       "    <tr>\n",
       "      <th>24782</th>\n",
       "      <td>2</td>\n",
       "      <td>~~Ruffled | Ntac Eileen Dahlia - Beautiful col...</td>\n",
       "    </tr>\n",
       "  </tbody>\n",
       "</table>\n",
       "<p>24783 rows × 2 columns</p>\n",
       "</div>"
      ],
      "text/plain": [
       "       class                                              tweet\n",
       "0          2  !!! RT @mayasolovely: As a woman you shouldn't...\n",
       "1          1  !!!!! RT @mleew17: boy dats cold...tyga dwn ba...\n",
       "2          1  !!!!!!! RT @UrKindOfBrand Dawg!!!! RT @80sbaby...\n",
       "3          1  !!!!!!!!! RT @C_G_Anderson: @viva_based she lo...\n",
       "4          1  !!!!!!!!!!!!! RT @ShenikaRoberts: The shit you...\n",
       "...      ...                                                ...\n",
       "24778      1  you's a muthaf***in lie &#8220;@LifeAsKing: @2...\n",
       "24779      2  you've gone and broke the wrong heart baby, an...\n",
       "24780      1  young buck wanna eat!!.. dat nigguh like I ain...\n",
       "24781      1              youu got wild bitches tellin you lies\n",
       "24782      2  ~~Ruffled | Ntac Eileen Dahlia - Beautiful col...\n",
       "\n",
       "[24783 rows x 2 columns]"
      ]
     },
     "execution_count": 13,
     "metadata": {},
     "output_type": "execute_result"
    }
   ],
   "source": [
    "hsol = datasets.load_dataset(\"hate_speech_offensive\", split=\"train\") \\\n",
    "    .to_pandas() \\\n",
    "    .drop(columns=[\"count\", \"hate_speech_count\", \"offensive_language_count\", \"neither_count\"])\n",
    "\n",
    "hsol"
   ]
  },
  {
   "cell_type": "code",
   "execution_count": 19,
   "metadata": {},
   "outputs": [
    {
     "data": {
      "text/plain": [
       "1    0.774321\n",
       "2    0.167978\n",
       "0    0.057701\n",
       "Name: class, dtype: float64"
      ]
     },
     "execution_count": 19,
     "metadata": {},
     "output_type": "execute_result"
    }
   ],
   "source": [
    "hsol[\"class\"].value_counts() / len(hsol[\"class\"])"
   ]
  },
  {
   "cell_type": "code",
   "execution_count": 38,
   "metadata": {},
   "outputs": [
    {
     "name": "stdout",
     "output_type": "stream",
     "text": [
      "@Pepper_Redbone @Yankees @Mets Oh yeah. And the annoying damn duck calls?? They outta be banned. Duck horns??\n",
      "Whoo? A new attraction in Virginia City, birds of prey. Meet this owl famous for his role in Harry Potter. http://t.co/1NFSh5sCcR\n",
      "99 percent of the trash we dump in the sea is missing. This is not a good thing &#8594; http://t.co/CwC2LWCV3T http://t.co/Y0kt02HLm1\n"
     ]
    }
   ],
   "source": [
    "for s in hsol[hsol[\"class\"] == 2].sample(n=3, random_state=685).tweet:\n",
    "    print(s)"
   ]
  },
  {
   "cell_type": "code",
   "execution_count": 14,
   "metadata": {},
   "outputs": [
    {
     "data": {
      "text/html": [
       "<div>\n",
       "<style scoped>\n",
       "    .dataframe tbody tr th:only-of-type {\n",
       "        vertical-align: middle;\n",
       "    }\n",
       "\n",
       "    .dataframe tbody tr th {\n",
       "        vertical-align: top;\n",
       "    }\n",
       "\n",
       "    .dataframe thead th {\n",
       "        text-align: right;\n",
       "    }\n",
       "</style>\n",
       "<table border=\"1\" class=\"dataframe\">\n",
       "  <thead>\n",
       "    <tr style=\"text-align: right;\">\n",
       "      <th></th>\n",
       "      <th>label</th>\n",
       "      <th>text</th>\n",
       "    </tr>\n",
       "  </thead>\n",
       "  <tbody>\n",
       "    <tr>\n",
       "      <th>38950</th>\n",
       "      <td>0</td>\n",
       "      <td>Drop some pistols up there x)</td>\n",
       "    </tr>\n",
       "    <tr>\n",
       "      <th>44045</th>\n",
       "      <td>0</td>\n",
       "      <td>Why does he sound like a cross between a Kenne...</td>\n",
       "    </tr>\n",
       "    <tr>\n",
       "      <th>48311</th>\n",
       "      <td>0</td>\n",
       "      <td>Once again police are above the laws they are ...</td>\n",
       "    </tr>\n",
       "    <tr>\n",
       "      <th>56506</th>\n",
       "      <td>0</td>\n",
       "      <td>the first missle shot killed him</td>\n",
       "    </tr>\n",
       "    <tr>\n",
       "      <th>50719</th>\n",
       "      <td>1</td>\n",
       "      <td>Yea but its Israel and so it isn't a terror at...</td>\n",
       "    </tr>\n",
       "    <tr>\n",
       "      <th>...</th>\n",
       "      <td>...</td>\n",
       "      <td>...</td>\n",
       "    </tr>\n",
       "    <tr>\n",
       "      <th>47320</th>\n",
       "      <td>1</td>\n",
       "      <td>NYXL master race</td>\n",
       "    </tr>\n",
       "    <tr>\n",
       "      <th>43707</th>\n",
       "      <td>0</td>\n",
       "      <td>Or building more transit options</td>\n",
       "    </tr>\n",
       "    <tr>\n",
       "      <th>6955</th>\n",
       "      <td>1</td>\n",
       "      <td>Creepy legal rape is so much better than just ...</td>\n",
       "    </tr>\n",
       "    <tr>\n",
       "      <th>32137</th>\n",
       "      <td>0</td>\n",
       "      <td>Don't backpedal :-\\^)</td>\n",
       "    </tr>\n",
       "    <tr>\n",
       "      <th>50890</th>\n",
       "      <td>1</td>\n",
       "      <td>So unthankful, what about the Unidentified Dye?</td>\n",
       "    </tr>\n",
       "  </tbody>\n",
       "</table>\n",
       "<p>32333 rows × 2 columns</p>\n",
       "</div>"
      ],
      "text/plain": [
       "       label                                               text\n",
       "38950      0                      Drop some pistols up there x)\n",
       "44045      0  Why does he sound like a cross between a Kenne...\n",
       "48311      0  Once again police are above the laws they are ...\n",
       "56506      0                   the first missle shot killed him\n",
       "50719      1  Yea but its Israel and so it isn't a terror at...\n",
       "...      ...                                                ...\n",
       "47320      1                                   NYXL master race\n",
       "43707      0                   Or building more transit options\n",
       "6955       1  Creepy legal rape is so much better than just ...\n",
       "32137      0                              Don't backpedal :-\\^)\n",
       "50890      1    So unthankful, what about the Unidentified Dye?\n",
       "\n",
       "[32333 rows x 2 columns]"
      ]
     },
     "execution_count": 14,
     "metadata": {},
     "output_type": "execute_result"
    }
   ],
   "source": [
    "sarc = pd.read_csv(\"../SARC2/sarc_processed.csv\") \\\n",
    "    .drop(columns=[\"Unnamed: 0\"]) \\\n",
    "    .sample(frac=0.5, random_state=685)\n",
    "\n",
    "sarc"
   ]
  },
  {
   "cell_type": "code",
   "execution_count": 21,
   "metadata": {},
   "outputs": [
    {
     "data": {
      "text/plain": [
       "0    0.503294\n",
       "1    0.496706\n",
       "Name: label, dtype: float64"
      ]
     },
     "execution_count": 21,
     "metadata": {},
     "output_type": "execute_result"
    }
   ],
   "source": [
    "sarc[\"label\"].value_counts() / len(sarc[\"label\"])"
   ]
  },
  {
   "cell_type": "code",
   "execution_count": 30,
   "metadata": {},
   "outputs": [
    {
     "name": "stdout",
     "output_type": "stream",
     "text": [
      "Are they making an announcement tomorrow tuesday?\n",
      "Castle Storm is a really good game, which I know because I bought on the PC long ago\n",
      "Boy oh *boy* those coming debates with Trump will be fun.\n"
     ]
    }
   ],
   "source": [
    "for s in sarc[sarc[\"label\"] == 0].sample(n=3, random_state=686).text:\n",
    "    print(s)"
   ]
  },
  {
   "cell_type": "code",
   "execution_count": 28,
   "metadata": {},
   "outputs": [
    {
     "name": "stdout",
     "output_type": "stream",
     "text": [
      "So the people tasked with stopping gangs and gang violence are nothing but the very thing they are tasked with stopping, my heart be still!\n",
      "Thank god fb will tell me whats real and what not\n",
      "Only if it comes with a Lamborghini, then yes, yes sir you are.\n"
     ]
    }
   ],
   "source": [
    "for s in sarc[sarc[\"label\"] == 1].sample(n=3, random_state=685).text:\n",
    "    print(s)"
   ]
  },
  {
   "cell_type": "code",
   "execution_count": 5,
   "metadata": {},
   "outputs": [
    {
     "data": {
      "text/html": [
       "<div>\n",
       "<style scoped>\n",
       "    .dataframe tbody tr th:only-of-type {\n",
       "        vertical-align: middle;\n",
       "    }\n",
       "\n",
       "    .dataframe tbody tr th {\n",
       "        vertical-align: top;\n",
       "    }\n",
       "\n",
       "    .dataframe thead th {\n",
       "        text-align: right;\n",
       "    }\n",
       "</style>\n",
       "<table border=\"1\" class=\"dataframe\">\n",
       "  <thead>\n",
       "    <tr style=\"text-align: right;\">\n",
       "      <th></th>\n",
       "      <th>text</th>\n",
       "      <th>label</th>\n",
       "    </tr>\n",
       "  </thead>\n",
       "  <tbody>\n",
       "    <tr>\n",
       "      <th>0</th>\n",
       "      <td>\" : jewish harvard professor noel ignatiev w...</td>\n",
       "      <td>white_grievance</td>\n",
       "    </tr>\n",
       "    <tr>\n",
       "      <th>1</th>\n",
       "      <td>rt : tune in today's jmt for my interview w /...</td>\n",
       "      <td>irony</td>\n",
       "    </tr>\n",
       "    <tr>\n",
       "      <th>2</th>\n",
       "      <td>: : hate posters ? you want hate buddy ? read ...</td>\n",
       "      <td>white_grievance</td>\n",
       "    </tr>\n",
       "    <tr>\n",
       "      <th>3</th>\n",
       "      <td>: hunt for white women : black racist serial k...</td>\n",
       "      <td>stereotypical</td>\n",
       "    </tr>\n",
       "    <tr>\n",
       "      <th>4</th>\n",
       "      <td>: looks like he was a fan of the islamic jew-h...</td>\n",
       "      <td>stereotypical</td>\n",
       "    </tr>\n",
       "    <tr>\n",
       "      <th>...</th>\n",
       "      <td>...</td>\n",
       "      <td>...</td>\n",
       "    </tr>\n",
       "    <tr>\n",
       "      <th>6341</th>\n",
       "      <td>Seeing prostitutes is morally wrong, but being...</td>\n",
       "      <td>irony</td>\n",
       "    </tr>\n",
       "    <tr>\n",
       "      <th>6342</th>\n",
       "      <td>I wonder how many females I raped today I spen...</td>\n",
       "      <td>irony</td>\n",
       "    </tr>\n",
       "    <tr>\n",
       "      <th>6343</th>\n",
       "      <td>Having a criminal record is more attractive to...</td>\n",
       "      <td>stereotypical</td>\n",
       "    </tr>\n",
       "    <tr>\n",
       "      <th>6344</th>\n",
       "      <td>Another advantage of being a female: getting b...</td>\n",
       "      <td>inferiority</td>\n",
       "    </tr>\n",
       "    <tr>\n",
       "      <th>6345</th>\n",
       "      <td>If men are so privileged and women have it so ...</td>\n",
       "      <td>irony</td>\n",
       "    </tr>\n",
       "  </tbody>\n",
       "</table>\n",
       "<p>6346 rows × 2 columns</p>\n",
       "</div>"
      ],
      "text/plain": [
       "                                                   text            label\n",
       "0       \" : jewish harvard professor noel ignatiev w...  white_grievance\n",
       "1      rt : tune in today's jmt for my interview w /...            irony\n",
       "2     : : hate posters ? you want hate buddy ? read ...  white_grievance\n",
       "3     : hunt for white women : black racist serial k...    stereotypical\n",
       "4     : looks like he was a fan of the islamic jew-h...    stereotypical\n",
       "...                                                 ...              ...\n",
       "6341  Seeing prostitutes is morally wrong, but being...            irony\n",
       "6342  I wonder how many females I raped today I spen...            irony\n",
       "6343  Having a criminal record is more attractive to...    stereotypical\n",
       "6344  Another advantage of being a female: getting b...      inferiority\n",
       "6345  If men are so privileged and women have it so ...            irony\n",
       "\n",
       "[6346 rows x 2 columns]"
      ]
     },
     "execution_count": 5,
     "metadata": {},
     "output_type": "execute_result"
    }
   ],
   "source": [
    "impl = pd.read_table('../implicit_hate_v1_stg2_posts.tsv') \\\n",
    "    .rename(columns={\"post\": \"text\", \"implicit_class\": \"label\"}) \\\n",
    "    .drop(\"extra_implicit_class\", axis=1) \\\n",
    "\n",
    "impl"
   ]
  },
  {
   "cell_type": "code",
   "execution_count": 6,
   "metadata": {},
   "outputs": [
    {
     "data": {
      "text/plain": [
       "white_grievance    0.242357\n",
       "incitement         0.199968\n",
       "stereotypical      0.178538\n",
       "inferiority        0.135991\n",
       "irony              0.125591\n",
       "threatening        0.104948\n",
       "other              0.012606\n",
       "Name: label, dtype: float64"
      ]
     },
     "execution_count": 6,
     "metadata": {},
     "output_type": "execute_result"
    }
   ],
   "source": [
    "impl[\"label\"].value_counts() / len(impl[\"label\"])"
   ]
  },
  {
   "cell_type": "code",
   "execution_count": 27,
   "metadata": {},
   "outputs": [
    {
     "name": "stdout",
     "output_type": "stream",
     "text": [
      "white nationalism is a religion of peace .\n"
     ]
    }
   ],
   "source": [
    "for s in impl[impl[\"label\"] == \"other\"].sample(n=1, random_state=684).text:\n",
    "    print(s)"
   ]
  }
 ],
 "metadata": {
  "kernelspec": {
   "display_name": "Python 3",
   "language": "python",
   "name": "python3"
  },
  "language_info": {
   "codemirror_mode": {
    "name": "ipython",
    "version": 3
   },
   "file_extension": ".py",
   "mimetype": "text/x-python",
   "name": "python",
   "nbconvert_exporter": "python",
   "pygments_lexer": "ipython3",
   "version": "3.8.10"
  }
 },
 "nbformat": 4,
 "nbformat_minor": 4
}
