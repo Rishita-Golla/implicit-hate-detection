{
 "cells": [
  {
   "cell_type": "code",
   "execution_count": 58,
   "metadata": {},
   "outputs": [],
   "source": [
    "import json\n",
    "\n",
    "import ijson\n",
    "import pandas as pd\n",
    "\n",
    "import pymongo\n",
    "from pymongo import MongoClient\n",
    "from tqdm.notebook import tqdm"
   ]
  },
  {
   "cell_type": "code",
   "execution_count": 60,
   "metadata": {},
   "outputs": [],
   "source": [
    "index = {}\n",
    "\n",
    "with open('SARC2/comments.txt', 'w') as txt:\n",
    "    with open('SARC2/comments.json', 'r') as f:\n",
    "        for i, (id_str, comment) in enumerate(ijson.kvitems(f, '')):\n",
    "            index[id_str] = i\n",
    "            txt.write(f\"{comment['text']}\\n\")"
   ]
  },
  {
   "cell_type": "code",
   "execution_count": 62,
   "metadata": {},
   "outputs": [
    {
     "data": {
      "text/plain": [
       "72"
      ]
     },
     "execution_count": 62,
     "metadata": {},
     "output_type": "execute_result"
    }
   ],
   "source": [
    "index['c07nkao']"
   ]
  },
  {
   "cell_type": "code",
   "execution_count": 64,
   "metadata": {},
   "outputs": [
    {
     "data": {
      "text/plain": [
       "12704751"
      ]
     },
     "execution_count": 64,
     "metadata": {},
     "output_type": "execute_result"
    }
   ],
   "source": [
    "len(index)"
   ]
  },
  {
   "cell_type": "code",
   "execution_count": 67,
   "metadata": {},
   "outputs": [
    {
     "data": {
      "text/plain": [
       "'You think Trump is a conservative?\\n'"
      ]
     },
     "execution_count": 67,
     "metadata": {},
     "output_type": "execute_result"
    }
   ],
   "source": [
    "def get_nth_line(n):\n",
    "    fp = open('SARC2/comments.txt', 'r')\n",
    "    for i, line in enumerate(fp):\n",
    "        if i == n:\n",
    "            break\n",
    "    fp.close()\n",
    "    return line\n",
    "\n",
    "get_nth_line(12704751)"
   ]
  },
  {
   "cell_type": "code",
   "execution_count": 83,
   "metadata": {},
   "outputs": [
    {
     "data": {
      "application/vnd.jupyter.widget-view+json": {
       "model_id": "4c831127ff10463a96a43746bb9656cd",
       "version_major": 2,
       "version_minor": 0
      },
      "text/plain": [
       "  0%|          | 0/32333 [00:00<?, ?it/s]"
      ]
     },
     "metadata": {},
     "output_type": "display_data"
    }
   ],
   "source": [
    "def load_dataset(path):\n",
    "    with open(path, 'r') as f:\n",
    "        lines = f.readlines()\n",
    "    ret = []\n",
    "    for line in tqdm(lines):\n",
    "        line = line.split('|')\n",
    "        comments = line[1].split(' ')\n",
    "        labels = line[2].strip().split(' ')\n",
    "        \n",
    "        comment1 = comments[0]\n",
    "        comment2 = comments[1]\n",
    "        label1 = int(labels[0])\n",
    "        label2 = int(labels[1])\n",
    "        \n",
    "        c1_idx = index[comment1]\n",
    "        c2_idx = index[comment2]\n",
    "        \n",
    "        # comment1 = get_nth_line(c1_idx)\n",
    "        # comment2 = get_nth_line(c2_idx)\n",
    "        \n",
    "        ret.append([c1_idx, label1])\n",
    "        ret.append([c2_idx, label2])\n",
    "        \n",
    "    return pd.DataFrame(ret, columns=[\"idx\", \"label\"])\n",
    "\n",
    "sarc = load_dataset(\"SARC2/test-balanced.csv\")"
   ]
  },
  {
   "cell_type": "code",
   "execution_count": 99,
   "metadata": {},
   "outputs": [
    {
     "data": {
      "application/vnd.jupyter.widget-view+json": {
       "model_id": "aa8cb8520e9a4af390519bfa7db81f1b",
       "version_major": 2,
       "version_minor": 0
      },
      "text/plain": [
       "0it [00:00, ?it/s]"
      ]
     },
     "metadata": {},
     "output_type": "display_data"
    }
   ],
   "source": [
    "def read_comments(idxs):\n",
    "    idxs = set(idxs)\n",
    "    idxs = list(sorted(idxs))\n",
    "    \n",
    "    ret = {}\n",
    "    \n",
    "    fp = open('SARC2/comments.txt', 'r')\n",
    "    for i, line in tqdm(enumerate(fp)):\n",
    "        if idxs and idxs[0] == i:\n",
    "            ret[idxs[0]] = line.strip()\n",
    "            idxs.pop(0)\n",
    "    \n",
    "    return ret\n",
    "\n",
    "big_index = read_comments(sarc[\"idx\"])"
   ]
  },
  {
   "cell_type": "code",
   "execution_count": 103,
   "metadata": {},
   "outputs": [
    {
     "data": {
      "text/html": [
       "<div>\n",
       "<style scoped>\n",
       "    .dataframe tbody tr th:only-of-type {\n",
       "        vertical-align: middle;\n",
       "    }\n",
       "\n",
       "    .dataframe tbody tr th {\n",
       "        vertical-align: top;\n",
       "    }\n",
       "\n",
       "    .dataframe thead th {\n",
       "        text-align: right;\n",
       "    }\n",
       "</style>\n",
       "<table border=\"1\" class=\"dataframe\">\n",
       "  <thead>\n",
       "    <tr style=\"text-align: right;\">\n",
       "      <th></th>\n",
       "      <th>idx</th>\n",
       "      <th>label</th>\n",
       "      <th>text</th>\n",
       "    </tr>\n",
       "  </thead>\n",
       "  <tbody>\n",
       "    <tr>\n",
       "      <th>0</th>\n",
       "      <td>72</td>\n",
       "      <td>1</td>\n",
       "      <td>Yes, cuz tax cuts will help those w/o jobs!</td>\n",
       "    </tr>\n",
       "    <tr>\n",
       "      <th>1</th>\n",
       "      <td>1403415</td>\n",
       "      <td>0</td>\n",
       "      <td>If cutting taxes fails... cut taxes harder.</td>\n",
       "    </tr>\n",
       "    <tr>\n",
       "      <th>2</th>\n",
       "      <td>89</td>\n",
       "      <td>1</td>\n",
       "      <td>Chalk it up to the ever-increasing cost of fre...</td>\n",
       "    </tr>\n",
       "    <tr>\n",
       "      <th>3</th>\n",
       "      <td>1403435</td>\n",
       "      <td>0</td>\n",
       "      <td>We're about to finally get affordable housing,...</td>\n",
       "    </tr>\n",
       "    <tr>\n",
       "      <th>4</th>\n",
       "      <td>125</td>\n",
       "      <td>1</td>\n",
       "      <td>oh wow I am so surprised I never saw this coming</td>\n",
       "    </tr>\n",
       "    <tr>\n",
       "      <th>...</th>\n",
       "      <td>...</td>\n",
       "      <td>...</td>\n",
       "      <td>...</td>\n",
       "    </tr>\n",
       "    <tr>\n",
       "      <th>64661</th>\n",
       "      <td>12704317</td>\n",
       "      <td>0</td>\n",
       "      <td>THEYRE SO CUTE</td>\n",
       "    </tr>\n",
       "    <tr>\n",
       "      <th>64662</th>\n",
       "      <td>12704350</td>\n",
       "      <td>0</td>\n",
       "      <td>I'm very curious to see if they'll actually fo...</td>\n",
       "    </tr>\n",
       "    <tr>\n",
       "      <th>64663</th>\n",
       "      <td>1403227</td>\n",
       "      <td>1</td>\n",
       "      <td>That's Bartkowski!</td>\n",
       "    </tr>\n",
       "    <tr>\n",
       "      <th>64664</th>\n",
       "      <td>1403251</td>\n",
       "      <td>1</td>\n",
       "      <td>But according the Chafetz, they are rich so th...</td>\n",
       "    </tr>\n",
       "    <tr>\n",
       "      <th>64665</th>\n",
       "      <td>12704741</td>\n",
       "      <td>0</td>\n",
       "      <td>Our spiral into a banana republic continues, I...</td>\n",
       "    </tr>\n",
       "  </tbody>\n",
       "</table>\n",
       "<p>64666 rows × 3 columns</p>\n",
       "</div>"
      ],
      "text/plain": [
       "            idx  label                                               text\n",
       "0            72      1        Yes, cuz tax cuts will help those w/o jobs!\n",
       "1       1403415      0        If cutting taxes fails... cut taxes harder.\n",
       "2            89      1  Chalk it up to the ever-increasing cost of fre...\n",
       "3       1403435      0  We're about to finally get affordable housing,...\n",
       "4           125      1   oh wow I am so surprised I never saw this coming\n",
       "...         ...    ...                                                ...\n",
       "64661  12704317      0                                     THEYRE SO CUTE\n",
       "64662  12704350      0  I'm very curious to see if they'll actually fo...\n",
       "64663   1403227      1                                 That's Bartkowski!\n",
       "64664   1403251      1  But according the Chafetz, they are rich so th...\n",
       "64665  12704741      0  Our spiral into a banana republic continues, I...\n",
       "\n",
       "[64666 rows x 3 columns]"
      ]
     },
     "execution_count": 103,
     "metadata": {},
     "output_type": "execute_result"
    }
   ],
   "source": [
    "sarc['text'] = sarc['idx'].map(lambda x: big_index[x])\n",
    "sarc"
   ]
  },
  {
   "cell_type": "code",
   "execution_count": 108,
   "metadata": {},
   "outputs": [],
   "source": [
    "sarc.drop(columns=['idx']).to_csv('SARC2/sarc_processed.csv')"
   ]
  }
 ],
 "metadata": {
  "kernelspec": {
   "display_name": "Python 3",
   "language": "python",
   "name": "python3"
  },
  "language_info": {
   "codemirror_mode": {
    "name": "ipython",
    "version": 3
   },
   "file_extension": ".py",
   "mimetype": "text/x-python",
   "name": "python",
   "nbconvert_exporter": "python",
   "pygments_lexer": "ipython3",
   "version": "3.8.10"
  }
 },
 "nbformat": 4,
 "nbformat_minor": 4
}
